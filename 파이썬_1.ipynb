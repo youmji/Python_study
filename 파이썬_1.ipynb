{
  "nbformat": 4,
  "nbformat_minor": 0,
  "metadata": {
    "colab": {
      "provenance": []
    },
    "kernelspec": {
      "name": "python3",
      "display_name": "Python 3"
    },
    "language_info": {
      "name": "python"
    }
  },
  "cells": [
    {
      "cell_type": "markdown",
      "source": [
        "# 파이썬과 c언어의 큰 차이점\n",
        "- 파이썬은 작은따옴표(')와 큰따옴표(\")에 차이를 두지 않는다.\n",
        "- 파이썬은 ;를 사용하지 않는다.  \n",
        "(사용은 할 수 있으나 다른 느낌으로 사용됨)\n",
        "- 파이썬은 변수를 선언할 때 변수 앞에 타입을 선언하지 않는다.\n",
        "  + c언어\n",
        "```c\n",
        "int a = 123;\n",
        "```\n",
        "  + 파이썬\n",
        "```python\n",
        "a = 123\n",
        "```\n",
        "- 파이썬은 조건문(if)나 반복문(for, while)을 사용할 때 {}를 사용하지 않는다.\n",
        "  + c언어\n",
        "```c\n",
        "int a = 1;\n",
        "if(a == 1){\n",
        "  printf(\"a는 1입니다.\")\n",
        "}\n",
        "```\n",
        "  + 파이썬\n",
        "```python\n",
        "a = 1\n",
        "if a == 1:\n",
        "  print(\"a는 1입니다.\")\n",
        "```"
      ],
      "metadata": {
        "id": "qDLb_Xymtdno"
      }
    },
    {
      "cell_type": "code",
      "source": [
        "# 데이터타입\n",
        "'hello' # 문자열(str)       (다른 언어에서는 String 또는 string)\n",
        "123 # 숫자형(int)\n",
        "True # 논리형(bool)        (다른 언어에서는 boolean)\n",
        "False # True와 마찬가지로 논리형이며,\n",
        "# 다른 언어는 true, false로 앞에가 소문자이나, 파이썬은 대문자로 시작\n",
        "\n",
        "# 파이썬의 print문은 c언어의 printf문과 유사\n",
        "# 다른 점이 있다면 한가지 요소만 print할 때 포맷이 필요X\n",
        "\n",
        "# 예시\n",
        "# c언어의 경우 1을 출력하고 싶다면\n",
        "# printf(\"%d\", 1)\n",
        "# 파이썬의 경우\n",
        "# print(1)\n",
        "\n",
        "# 데이터타입 확인\n",
        "# type(값) -> 값의 타입 확인\n",
        "print('hello')\n",
        "print(type('hello'))\n",
        "print(123)\n",
        "print(type(123))\n",
        "\n",
        "# 숫자를 문자열로\n",
        "# str(값) -> 값을 문자열로\n",
        "print(str(123))\n",
        "print(type(str(123)))\n",
        "\n",
        "# 문자열을 숫자로\n",
        "# int(값) -> 값을 숫자로\n",
        "print(int('123'))\n",
        "print(type(int('123')))\n",
        "\n",
        "\n",
        "# 번외 - 아무 값이나 int() 사용하면 문제가 되지는 않을까?\n",
        "# 문자열이 숫자로 구성된지 확인하는 방법\n",
        "# -> int(값) 에서 값이 숫자가 아닐 경우엔 에러가 나기 때문에\n",
        "# 아래의 링크와 같은 함수를 사용\n",
        "# https://tigris-data-science.tistory.com/entry/Python-%EC%A3%BC%EC%96%B4%EC%A7%84-%EB%AC%B8%EC%9E%90%EC%97%B4%EC%9D%B4-%EC%95%8C%ED%8C%8C%EB%B2%B3%EC%88%AB%EC%9E%90%EB%A1%9C%EB%A7%8C-%EA%B5%AC%EC%84%B1%EB%90%98%EC%97%88%EB%8A%94%EC%A7%80-%ED%99%95%EC%9D%B8%ED%95%B4%EB%B3%B4%EA%B8%B0\n",
        "\n",
        "\n",
        "# 번외2 - 함수\n",
        "# 위에서 사용한 print(), type(), str(), int(), 등등\n",
        "# 키워드 + 괄호    ->  이 구조를 함수라고 함.\n",
        "# int()의 경우 int함수, type()의 경우 type함수와 같이 부를 수 있음.\n",
        "# 자세한건 추후에 다시"
      ],
      "metadata": {
        "id": "GI2H9hH5gWGT"
      },
      "execution_count": null,
      "outputs": []
    },
    {
      "cell_type": "code",
      "execution_count": null,
      "metadata": {
        "id": "GPQQJg7QRt82"
      },
      "outputs": [],
      "source": [
        "# print1 - 기본\n",
        "print('hello')\n",
        "print(123)\n",
        "print('안녕', '하세요') # ,를 이용하여 출력할 경우 강제로 띄어쓰기 발생\n",
        "print('안녕' + '하세요') # 이와 같이 +를 사용하면 띄어쓰기 없이 붙이기 가능\n",
        "print('test'*3)\n",
        "# print('test' + 123) # 에러 발생\n",
        "# 문자 + 숫자 출력X\n",
        "print('test ' + str(123)) # str() -> 괄호 안의 데이터를 문자열 형으로 변환\n",
        "print('''test1\n",
        "test2\n",
        "test3''') # 따옴표 세개 사용하면 여러 줄의 문자열 한번에 사용 가능"
      ]
    },
    {
      "cell_type": "code",
      "source": [
        "# print2 - 이스케이프 문자\n",
        "# \\n 줄바꿈\n",
        "# \\t 탭\n",
        "# \\\" 쌍따옴표\n",
        "# \\' 따옴표\n",
        "print('test\\ntest')\n",
        "print('test\\ttest')\n",
        "print('test\\\"test\\\"')\n",
        "print('test\"test\"') # 위의 코드와 같음\n",
        "# 맨 바깥쪽 따옴표와 안쪽에 사용할 따옴표가 다른 종류의 따옴표라면\n",
        "# 이스케이프문자를 사용하지 않고도 혼용해서 사용 가능\n",
        "print('test\\'test\\'')\n",
        "\n",
        "print('---------------')\n",
        "# 이스케이프문자를 사용하지 않고 줄바꿈을 하게 될 경우\n",
        "print('test\\n\\ntest') # 이 코드를 아래와 같이 사용하게 됨.\n",
        "print('---------------')\n",
        "print('test')\n",
        "print()\n",
        "print('test')\n",
        "\n",
        "# 번외\n",
        "닭다리_갯수 = 2\n",
        "print('닭다리 ' + str(닭다리_갯수) + '개')\n",
        "# 위와 같이 사용하기가 귀찮을 경우\n",
        "\n",
        "# 방법1 - 정석\n",
        "print('닭다리 {0}개'.format(닭다리_갯수))\n",
        "# 위에서처럼 printf와 같이 변수에 값을 삽입하는 방식을\n",
        "# 포맷팅이라고 함.\n",
        "\n",
        "# 방법2 - fString(또는 f스트링 등 편한대로)\n",
        "print(f'닭다리 {닭다리_갯수}개')\n",
        "# f를 따옴표 앞에 붙여서 안에 변수를 사용할 예정임을 선언 가능\n",
        "# 파이썬은 간결함이 생명이므로 이 방식을 사용하는 것 추천\n",
        "\n",
        "# 번외2 - end 매개변수\n",
        "print('안녕', end='')\n",
        "print('하세요')\n",
        "# end를 이용하여 '안녕'이 출력된 이후 자동으로 줄바꿈이 이뤄지는 것을 막을 수 있음\n",
        "\n",
        "# 기본적인 print('안녕') 을 입력하게 되면 -> 자동으로 print('안녕', end='\\n')로 사용이 됨\n",
        "print('안녕', end='하세요\\n') # -> 이와 같이도 가능\n",
        "\n",
        "# 이와 같이 함수 안에 사용하는 end와 같은 것은 매개변수라고도 하는데\n",
        "# 간단하게 말하면 괄호 안에 들어가는건 전부 매개변수\n",
        "# print('안녕') 하게 되면 '안녕' 도 매개변수\n",
        "# 이것도 추후 설명예정"
      ],
      "metadata": {
        "id": "vZYIIV9Jd5en"
      },
      "execution_count": null,
      "outputs": []
    },
    {
      "cell_type": "code",
      "source": [
        "# 산술연산자\n",
        "print('---기본적인 산술연산자---') # 산술연산자 -> 숫자를 계산하는 연산자\n",
        "print(20 + 3)\n",
        "print(20 - 3)\n",
        "print(20 * 3)\n",
        "print(20 / 3)\n",
        "print('----추가로----')\n",
        "print(20 // 3) # 몫 연산자 -> 20을 3으로 나누고 나머지를 제외한 몫만 출력\n",
        "print(20 % 3) # 나머지 연산자 -> 20을 3으로 나누게 될 경우 2의 나머지가 생기는데 이 나머지를 출력\n",
        "print(2 ** 3) # 제곱 연산자 -> 2의 세제곱(2 * 2 * 2)인 8 출력\n",
        "\n",
        "# //와 **는 파이썬만 가능\n",
        "# %는 c언어도 가능\n",
        "\n",
        "print('----번외1----')\n",
        "# 번외1 - 나머지연산자의 사용방식\n",
        "print('----응용1----')\n",
        "#   응용1. 홀수/짝수 판별\n",
        "a = 55\n",
        "if a % 2 == 1:\n",
        "  # a / 2의 나머지가 1일 경우 아래의 print문 실행\n",
        "  print('홀수 입니다.')\n",
        "# if문(조건문)은 추후 설명예정\n",
        "\n",
        "print('----응용2----')\n",
        "#   응용2. 배수 확인(2의 배수, 3의 배수, 4의 배수, ...)\n",
        "# 예시\n",
        "i = 0\n",
        "while i < 10: # i가 0부터 9까지 실행\n",
        "  if i % 3 == 0:\n",
        "    print(f'{i}는 3의 배수!')\n",
        "  i += 1\n",
        "# 반복문도 추후 설명예정\n",
        "\n",
        "print('----번외2----')\n",
        "# 번외2 - 연산자우선순위\n",
        "print(2 + 3 * 4) # 곱하기가 먼저 진행\n",
        "# 수학과 비슷하게 *와 /가 먼저 진행되고 +, -가 이후에 진행\n",
        "print((2 + 3) * 4) # 수학과 같이 괄호를 사용하여 우선순위 높이기 가능\n",
        "\n",
        "# 자세한건 아래 링크\n",
        "# https://dojang.io/mod/page/view.php?id=2461"
      ],
      "metadata": {
        "id": "1CBEdP3OSpBm"
      },
      "execution_count": null,
      "outputs": []
    },
    {
      "cell_type": "code",
      "source": [
        "# 연산자의 종류\n",
        "# 1. 산술연산자\n",
        "# 2. 대입연산자\n",
        "# 3. 비교연산자\n",
        "# 4. 논리연산자\n",
        "# 5. 식별연산자\n",
        "# 6. 멤버연산자\n",
        "# 7. 비트연산자"
      ],
      "metadata": {
        "id": "7OZM6lT-sN-E"
      },
      "execution_count": null,
      "outputs": []
    },
    {
      "cell_type": "code",
      "source": [
        "# 대입연산자\n",
        "a = '안녕하세요' # -> 여기서 = 이 대입연산자\n",
        "# a 라는 변수에 '안녕하세요'라는 문자열을 담는다.\n",
        "a = a + \" 저는 홍길동입니다.\"\n",
        "# 변수a에    a의 값인 '안녕하세요'와 \" 저는 홍길동입니다.\"를 합친 뒤에     대입\n",
        "# a += \" 저는 홍길동입니다.\" # 위와 같은 코드\n",
        "\n",
        "# a += 1 -> a = a + 1 같은 코드\n",
        "# a -= 1 -> a = a - 1\n",
        "# a *= 1 -> a = a * 1\n",
        "# a /= 1 -> a = a / 1\n",
        "# a //= 1 -> a = a // 1\n",
        "# a %= 1 -> a = a % 1\n",
        "# a **= 1 -> a = a ** 1\n",
        "\n",
        "\n",
        "# 다른 연산자들은 사용할 일 생기면 그때 이어서"
      ],
      "metadata": {
        "id": "4hcuQqL-tCLr"
      },
      "execution_count": null,
      "outputs": []
    },
    {
      "cell_type": "markdown",
      "source": [
        "# 산술연산자 문제\n",
        "- 쉬우니 긴장 안 하셔도 돼용\n",
        "## 문제 푸는 방법\n",
        "- 예시문제\n",
        "- https://school.programmers.co.kr/learn/courses/30/lessons/120804?language=python3\n",
        "```python\n",
        "def solution(num1, num2):\n",
        "    answer = 0\n",
        "    return answer\n",
        "```\n",
        "이와 같이 문제가 주어질 경우\n",
        "- 그대로 둘 부분\n",
        "```python\n",
        "def solution(num1, num2):\n",
        "```\n",
        "- 답안 작성하는 부분\n",
        "```python\n",
        "return 답\n",
        "```\n",
        "이 외에는 마음껏 수정 가능합니다!  \n",
        "물론 주석(#)도 사용 가능합니다!  \n",
        "예시로 정답을 보여드리자면\n",
        "\n",
        "- 정답1\n",
        "```python\n",
        "def solution(num1, num2):\n",
        "    answer = num1 * num2\n",
        "    return answer\n",
        "```\n",
        "\n",
        "- 정답2\n",
        "```python\n",
        "def solution(num1, num2):\n",
        "    return num1 * num2\n",
        "```\n",
        "\n",
        "## 산술연산자 응용\n",
        "- https://school.programmers.co.kr/learn/courses/30/lessons/120820?language=python3\n",
        "\n",
        "## 응용 문제\n",
        "- https://school.programmers.co.kr/learn/courses/30/lessons/120830?language=python3\n",
        "- 조건문 없이 가능합니다!\n",
        "- 요구능력\n",
        "  + 변수의 활용\n",
        "  + 차근차근 진행하는 절차적 사고\n",
        "\n",
        "- 어려울 경우 메모장으로 슈도코드 작성해보고 차근차근 해보세용"
      ],
      "metadata": {
        "id": "PNmjSiTQ3Snp"
      }
    },
    {
      "cell_type": "code",
      "source": [
        "def num_plus1(n):\n",
        "  return n+1\n",
        "print(num_plus1(5))\n",
        "\n",
        "def plus(n1,n2):\n",
        "  return n1+n2\n",
        "print(plus(2,3))\n",
        "\n",
        "def not_return(n1,n2):\n",
        "  print('함수가 실행됐어요')\n",
        "  return\n",
        "print(not_return(2,3))\n",
        "\n",
        "def square(n):\n",
        "  return n**2\n",
        "print (square(2))"
      ],
      "metadata": {
        "colab": {
          "base_uri": "https://localhost:8080/"
        },
        "id": "OcIkJ8-8UM7B",
        "outputId": "0b87f609-c817-42b7-d9ac-3e71de0b8ca3"
      },
      "execution_count": 6,
      "outputs": [
        {
          "output_type": "stream",
          "name": "stdout",
          "text": [
            "6\n",
            "5\n",
            "함수가 실행됐어요\n",
            "None\n",
            "4\n"
          ]
        }
      ]
    },
    {
      "cell_type": "code",
      "source": [
        "# 문제 3명이서 인당 5조각의 피자를 먹을 때\n",
        "# n개의 피자조각이 주어지면\n",
        "# 몇 개의 피자조각이 남는지\n",
        "def pizza_mukbang(n):\n",
        "  # 세 명이서 먹을 수 있는 피자조각\n",
        "  three_people_pizza = 3 * 5\n",
        "\n",
        "  # 답 계산\n",
        "  answer = n - three_people_pizza\n",
        "\n",
        "  # 답 반환하기\n",
        "  return answer\n",
        "\n",
        "# 함수 사용\n",
        "print(pizza_mukbang(21))"
      ],
      "metadata": {
        "colab": {
          "base_uri": "https://localhost:8080/"
        },
        "id": "V9xrqO6LW-0m",
        "outputId": "ed725100-acbc-4bf1-eafe-af439249cbc9"
      },
      "execution_count": 9,
      "outputs": [
        {
          "output_type": "stream",
          "name": "stdout",
          "text": [
            "6\n"
          ]
        }
      ]
    },
    {
      "cell_type": "code",
      "source": [
        "# 문제 4명이서 인당 5조각의 피자를 먹을 때\n",
        "# n개의 피자조각이 주어지면\n",
        "# 몇 개의 피자조각이 남는지\n",
        "def pizza_mukbang(n,i):\n",
        "  # 세 명이서 먹을 수 있는 피자조각\n",
        "  i_people_pizza = i*5\n",
        "\n",
        "  # 답 계산\n",
        "  answer = n-i_people_pizza\n",
        "\n",
        "  return answer\n",
        "\n",
        "# 답 반환하기\n",
        "print(pizza_mukbang(21, 5))\n",
        ""
      ],
      "metadata": {
        "colab": {
          "base_uri": "https://localhost:8080/"
        },
        "id": "7WEi0C8AW5vo",
        "outputId": "c222cf88-1a3c-4f7c-f75d-985d3d0d3ee4"
      },
      "execution_count": 43,
      "outputs": [
        {
          "output_type": "stream",
          "name": "stdout",
          "text": [
            "-4\n"
          ]
        }
      ]
    },
    {
      "cell_type": "code",
      "source": [
        "print(3**2)"
      ],
      "metadata": {
        "colab": {
          "base_uri": "https://localhost:8080/"
        },
        "id": "zY7s3vuZWfHn",
        "outputId": "3212e536-caae-45cb-b12e-5f66ca13d27d"
      },
      "execution_count": 4,
      "outputs": [
        {
          "output_type": "stream",
          "name": "stdout",
          "text": [
            "9\n"
          ]
        }
      ]
    },
    {
      "cell_type": "code",
      "source": [
        "# 문자열 - 인덱스\n",
        "# 인덱스: 값의 위치\n",
        "print('abcde')\n",
        "print(f\"abcde에서 a의 인덱스는 {'abcde'.find('a')}\")\n",
        "print(f\"abcde에서 b의 인덱스는 {'abcde'.find('b')}\")\n",
        "print(f\"abcde에서 c의 인덱스는 {'abcde'.find('c')}\")\n",
        "print(f\"abcde에서 d의 인덱스는 {'abcde'.find('d')}\")\n",
        "print(f\"abcde에서 e의 인덱스는 {'abcde'.find('e')}\")\n",
        "\n",
        "# 위와 같이\n",
        "# 문자열.find(값)\n",
        "# 을 할 경우\n",
        "# '문자열'에서 '값'의 인덱스(위치)를 찾아서 반환\n",
        "# 'abcde'.find('a') 같은 경우는\n",
        "# 'abcde'에서 'a'의 인덱스인 0 반환\n",
        "\n",
        "\n",
        "# 번외1\n",
        "# find()와 같이\n",
        "# 데이터 + . + 함수      의 구조를 가졌을 때, 해당 함수를 메서드라고 함.\n",
        "# 함수가 더 큰 개념이며, 메서드는 작은 개념\n",
        "\n",
        "# find는 함수이자 메서드\n",
        "# type, int, print는 함수이긴 하지만 메서드는 아님!\n",
        "# 추후 설명예정\n",
        "\n",
        "# 번외2\n",
        "\n",
        "# find - 1\n",
        "print('abc'.find('d'))\n",
        "# 이처럼 find 메서드로 문자열 내에 찾고자 하는 문자열이 존재하지 않을 경우 -1 반환\n",
        "\n",
        "# find - 2\n",
        "print('abc'.find('bc')) # find는 한 문자만 찾는 것이 아닌, 문자열(여러 문자)를 찾는 것이 가능\n",
        "\n",
        "# find - 3\n",
        "print('abcba'.find('a', 1)) # 이와 같이 사용하면 1번 인덱스부터 'a'를 찾기 시작"
      ],
      "metadata": {
        "id": "mzsLoZ1Fx27x"
      },
      "execution_count": null,
      "outputs": []
    },
    {
      "cell_type": "code",
      "source": [
        "# 문자열 - 인덱싱\n",
        "# 인덱싱: 문자열와 같은 연속된 데이터에서 특정 인덱스(위치)의 값을 사용하는 것\n",
        "print('hello'[0])\n",
        "print('hello'[1])\n",
        "print('hello'[2])\n",
        "print('hello'[3])\n",
        "print('hello'[4])\n",
        "\n",
        "# 이러한 식으로 무언가 순서와 관련하여 시작할 때\n",
        "# 보통의 프로그래밍 언어는 1이 아닌 0부터 시작하는 것 주의\n",
        "\n",
        "print('---------')\n",
        "# 번외\n",
        "# -를 붙이면 끝에서부터 순서대로\n",
        "print('hello'[-1])\n",
        "print('hello'[-2])\n",
        "print('hello'[-3])\n",
        "print('hello'[-4])\n",
        "print('hello'[-5])"
      ],
      "metadata": {
        "id": "0awj8fjnwL5Z"
      },
      "execution_count": null,
      "outputs": []
    },
    {
      "cell_type": "code",
      "source": [
        "# 문자열 - 슬라이싱\n",
        "# 슬라이싱: 문자열와 같은 연속된 데이터에서 인덱스(위치)를 이용하여\n",
        "#           특정 구간의 값을 사용하는 것\n",
        "print('abcde'[0:3])\n",
        "print('abcde'[2:4])\n",
        "# 이와 같이\n",
        "# 문자열[시작인덱스, 끝 바로 전]\n",
        "# print('abcde'[2:4])의 경우에는 2번 인덱스인 c부터 3번 인덱스인 d까지\n",
        "# 3까지인 이유는 뒤에 적히는 인덱스는 포함되지 않기 때문에 4 바로 앞인 3번 인덱스까지\n",
        "\n",
        "# 맨 앞이나 맨 뒤는 인덱스 적지 않고 생략 가능\n",
        "print('abcde'[:3]) # abc\n",
        "print('abcde'[2:]) # cde\n",
        "print('abcde'[:]) # abcde\n",
        "\n",
        "# 번외\n",
        "print('abcdefg'[0:7])\n",
        "print('abcdefg'[0:7:2])\n",
        "# :를 하나 더 쓰게 되면\n",
        "# 몇 칸씩 건너뛸지 가능\n",
        "# print('abcdefg'[0:7]) 이렇게 적으면 print('abcdefg'[0:7:1])로 자동으로 사용됨.\n",
        "\n",
        "# 응용\n",
        "# 보통 아래와 같이 자주 이용\n",
        "print('abcdefg'[::-1])"
      ],
      "metadata": {
        "id": "ohS0kiZpxTul"
      },
      "execution_count": null,
      "outputs": []
    },
    {
      "cell_type": "markdown",
      "source": [
        "# 문제\n",
        "- https://school.programmers.co.kr/learn/courses/30/lessons/120822?language=python3"
      ],
      "metadata": {
        "id": "WGm-4IeP3qTa"
      }
    },
    {
      "cell_type": "markdown",
      "source": [
        "# 문자열 추가로\n",
        "## 문자열 메서드\n",
        "- .upper(): 모두 대문자로\n",
        "- .lower(): 모두 소문자로\n",
        "- .swapcase(): 대소문자를 바꿈\n",
        "- .strip(): 문자열 양쪽 끝 특정문자 제거\n",
        "- .lstrip(), rstrip(): 왼쪽, 오른쪽 끝 특전문자 제거\n",
        "- .replace(값1, 값2): 문자열의 값1을 값2로 대체, (\" \", \"\")는 공백 없애기\n",
        "- .split(값): 값을 기준으로 문자열을 나눠 리스트로. 값이 없을 경우 띄어쓰기를 기준으로 문자열을 나눔.\n",
        "- .count(값): 문자열 내의 값의 갯수\n",
        "- '기호'.join(문자열): 문자열을 '기호' 기준으로 나눠서 재할당.\n",
        "ex: list(''.join(문자열)): 문자열을 글자마다 나눠 리스트에 할당\n",
        "- .find(찾을문자, 처음인덱스, 끝인덱스): 찾을문자의 인덱스를 반환. 없으면 -1 반환. 처음인덱스와 끝인덱스는 없어도 됨. 리스트, 튜플 등 사용불가, 문자 길어도 됨.\n",
        "- .startswith(값): 값으로 시작하는지를 boolean값으로 반환\n",
        "- .endswith(값): 값으로 끝나는지를 boolean값으로 반환\n",
        "- .isnumeric(): 문자열을 숫자로 변환 가능한지를 boolean값으로 반환\n",
        "\n",
        "## 문자열과 관련이 있는 함수\n",
        "- list(문자열): 문자열을 한글자씩 나누어 리스트에 저장\n",
        "- str(값): 값을 문자열로 바꾼 값을 만듦\n",
        "- chr(정수): 받은 정수에 해당하는 유니코드 문자를 반환\n",
        "- ord(문자): 받은 문자에 해당하는 정수를 반환\n",
        "- eval(문자열): 받은 문자열 내의 코드를 진행(대입연산자 = 는 적용X, 리턴값 O)\n",
        "- exec(문자열): 받은 문자열 내의 코드를 진행(대입연산자 사용 가능, 리턴값 X)"
      ],
      "metadata": {
        "id": "WoeuSYat6Wb2"
      }
    }
  ]
}