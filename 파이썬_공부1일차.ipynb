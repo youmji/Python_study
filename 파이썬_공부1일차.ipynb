{
  "nbformat": 4,
  "nbformat_minor": 0,
  "metadata": {
    "colab": {
      "provenance": []
    },
    "kernelspec": {
      "name": "python3",
      "display_name": "Python 3"
    },
    "language_info": {
      "name": "python"
    }
  },
  "cells": [
    {
      "cell_type": "code",
      "execution_count": 1,
      "metadata": {
        "colab": {
          "base_uri": "https://localhost:8080/"
        },
        "id": "vJupDGoER-Pj",
        "outputId": "820e04a4-d2bc-4c64-810a-b58a36de1a4a"
      },
      "outputs": [
        {
          "output_type": "stream",
          "name": "stdout",
          "text": [
            "hello\n"
          ]
        }
      ],
      "source": [
        "print(\"hello\")"
      ]
    },
    {
      "cell_type": "code",
      "source": [
        "print(123)"
      ],
      "metadata": {
        "colab": {
          "base_uri": "https://localhost:8080/"
        },
        "id": "m6Gwcb5dSIYG",
        "outputId": "f614ddb9-aae7-4c04-a55b-c25ec516818d"
      },
      "execution_count": 2,
      "outputs": [
        {
          "output_type": "stream",
          "name": "stdout",
          "text": [
            "123\n"
          ]
        }
      ]
    },
    {
      "cell_type": "code",
      "source": [
        "#평범한 연산자\n",
        "print(\"1+2=\",1+2)\n",
        "print(\"1-2=\",1-2)\n",
        "print(\"1*2=\",1*2)\n",
        "print(\"1/2=\",1/2)\n",
        "\n",
        "print(\"1**2=\",1**2) #제곱 연산자\n",
        "print(\"3**3=\",3**3)\n",
        "\n",
        "print(\"8//3=\",8//3) #몫 연산자\n",
        "print(\"8%3=\",8%3) #나머지 연산자\n"
      ],
      "metadata": {
        "colab": {
          "base_uri": "https://localhost:8080/"
        },
        "id": "vHEQ4WWeSQYI",
        "outputId": "42530878-faf9-4d65-a91d-f624612c6556"
      },
      "execution_count": 5,
      "outputs": [
        {
          "output_type": "stream",
          "name": "stdout",
          "text": [
            "1+2= 3\n",
            "1-2= -1\n",
            "1*2= 2\n",
            "1/2= 0.5\n",
            "1**2= 1\n",
            "3**3= 27\n",
            "8//3= 2\n",
            "8%3= 2\n",
            "1-2= -1\n",
            "1-2= -1\n",
            "1-2= -1\n",
            "1-2= -1\n"
          ]
        }
      ]
    },
    {
      "cell_type": "code",
      "source": [
        "s = 'hello world'\n",
        "print(s)\n",
        "print(s[1]) #인덱싱\n",
        "print(s[0:5]) #슬라이싱\n",
        "# [첫번째부터:끝바로 전까지]"
      ],
      "metadata": {
        "colab": {
          "base_uri": "https://localhost:8080/"
        },
        "id": "UDZZx7IpbS7X",
        "outputId": "00ecaa76-d790-4b5f-96ee-c50be0bd4846"
      },
      "execution_count": 8,
      "outputs": [
        {
          "output_type": "stream",
          "name": "stdout",
          "text": [
            "hello world\n",
            "e\n",
            "hello\n"
          ]
        }
      ]
    },
    {
      "cell_type": "code",
      "source": [
        "number = \"123456789\"\n",
        "print(number2:5)"
      ],
      "metadata": {
        "colab": {
          "base_uri": "https://localhost:8080/",
          "height": 110
        },
        "id": "iLRGEy2jcU3t",
        "outputId": "562365fd-5900-4d66-a976-e864e5ae373c"
      },
      "execution_count": 9,
      "outputs": [
        {
          "output_type": "error",
          "ename": "SyntaxError",
          "evalue": "invalid syntax (<ipython-input-9-58567e5c0072>, line 2)",
          "traceback": [
            "\u001b[0;36m  File \u001b[0;32m\"<ipython-input-9-58567e5c0072>\"\u001b[0;36m, line \u001b[0;32m2\u001b[0m\n\u001b[0;31m    print(number2:5)\u001b[0m\n\u001b[0m                 ^\u001b[0m\n\u001b[0;31mSyntaxError\u001b[0m\u001b[0;31m:\u001b[0m invalid syntax\n"
          ]
        }
      ]
    },
    {
      "cell_type": "code",
      "source": [
        "s='hamberger'\n",
        "print(s[3])#인덱싱은 대괄호 쓰기\n",
        "print(s[6:9])#처음꺼는 포함하지만 마지막꺼는 숫자 하나 줄여서 생각하기\n"
      ],
      "metadata": {
        "colab": {
          "base_uri": "https://localhost:8080/"
        },
        "id": "n3fu10rPdB6l",
        "outputId": "d04f053d-7807-436d-dfa1-03706745b248"
      },
      "execution_count": 15,
      "outputs": [
        {
          "output_type": "stream",
          "name": "stdout",
          "text": [
            "b\n",
            "ger\n"
          ]
        }
      ]
    },
    {
      "cell_type": "code",
      "source": [
        "s=\"hamberger\"\n",
        "print(s[-1])#-기호가 붙으면 뒤에서부터 시작"
      ],
      "metadata": {
        "colab": {
          "base_uri": "https://localhost:8080/"
        },
        "id": "yRYmAzGXd50G",
        "outputId": "d3b159f3-4073-4462-c52a-f0feb3611caa"
      },
      "execution_count": 16,
      "outputs": [
        {
          "output_type": "stream",
          "name": "stdout",
          "text": [
            "r\n"
          ]
        }
      ]
    },
    {
      "cell_type": "code",
      "source": [
        "s=\"hamberger\"\n",
        "print(s[0:9:2]) #:하나를 더 붙이면 띄어쓰는 단위를 말함.\n",
        "print(s[0:-3]) #처음부터 뒤에 -쓴 숫자만큼 빼고 출력.\n",
        "print(s[:5]) #0:0에서 앞에 숫자 안넣으면 처음부터 시작.\n",
        "print(s[4:]) #0:0에서 뒤에 숫자 안넣으면 마지막까지."
      ],
      "metadata": {
        "colab": {
          "base_uri": "https://localhost:8080/"
        },
        "id": "h-Tx5fn7cHXt",
        "outputId": "404627d6-5b4f-4bec-e679-6001274c4919"
      },
      "execution_count": 19,
      "outputs": [
        {
          "output_type": "stream",
          "name": "stdout",
          "text": [
            "hmegr\n",
            "hamber\n",
            "hambe\n",
            "erger\n"
          ]
        }
      ]
    },
    {
      "cell_type": "code",
      "source": [
        "'''\n",
        "int,bool(boolean), str(string), c_char\n",
        "'''\n",
        "\n",
        "print('test')\n",
        "a = '''\n",
        "t\n",
        "\n",
        "e\n",
        "s\n",
        "t\n",
        "'''\n",
        "print('test')\n",
        "print(a)\n",
        "\n",
        "#파이썬은 대문자 주의\n",
        "print(True) # bool타입\n",
        "print(False)\n",
        "print(bool(0))\n",
        "\n",
        "#0과 1로 나눠짐\n",
        "#0은false, 1은 true\n"
      ],
      "metadata": {
        "colab": {
          "base_uri": "https://localhost:8080/"
        },
        "id": "6TKy94YZeM57",
        "outputId": "917b30c4-2a10-412e-e8e1-809fe1f02b2c"
      },
      "execution_count": 23,
      "outputs": [
        {
          "output_type": "stream",
          "name": "stdout",
          "text": [
            "test\n",
            "test\n",
            "\n",
            "t\n",
            "\n",
            "e\n",
            "s\n",
            "t\n",
            "\n",
            "True\n",
            "False\n",
            "0\n"
          ]
        }
      ]
    },
    {
      "cell_type": "code",
      "source": [
        "'''\n",
        "a>b: a는 b보다 크다\n",
        "a==b: a는b와 같다\n",
        "a>=b: a는 b보다 같거나 크다\n",
        "a !=b: a는 b와 다르다\n",
        "'''\n",
        "\n",
        "print(1>2)\n",
        "print ('a'>'b') #아스키 코드 활용\n",
        "print(2>1 and 5>3)\n",
        "#c언어는 and 대신 && -> print(2>1 && 5>3)\n",
        "print(2>1 or 5>3)\n",
        "\n",
        "\n",
        "print(not 2 >1)\n",
        "print( 2 >1)\n",
        "\n"
      ],
      "metadata": {
        "colab": {
          "base_uri": "https://localhost:8080/"
        },
        "id": "LaMeJttbhfdG",
        "outputId": "0fa4b913-3e23-4783-820f-fdf61169dabf"
      },
      "execution_count": 25,
      "outputs": [
        {
          "output_type": "stream",
          "name": "stdout",
          "text": [
            "False\n",
            "False\n",
            "True\n",
            "True\n",
            "False\n",
            "True\n"
          ]
        }
      ]
    },
    {
      "cell_type": "code",
      "source": [
        "a=2\n",
        "b=1\n",
        "#a랑b 수 바꾸면서 해보기\n",
        "if a >b:\n",
        "  print(\"a는 b보다 큽니다\")\n",
        "elif a<b:                         #elif if\n",
        "  print(\"a는 b보다 작습니다\")\n",
        "else:\n",
        "  print(\"a는 b와 같습니다\")"
      ],
      "metadata": {
        "id": "MfvLUji7jeaB"
      },
      "execution_count": null,
      "outputs": []
    },
    {
      "cell_type": "code",
      "source": [
        "if True and False:\n",
        "  print('실행되지 않음.')\n",
        "\n",
        "if True or False and True: # and가 or보다 먼저\n",
        "  print('test')\n",
        "\n",
        "if (False or True) and False # 괄호를 썼을 경우 괄호 먼저 실행\n",
        "  print('test')\n"
      ],
      "metadata": {
        "colab": {
          "base_uri": "https://localhost:8080/"
        },
        "id": "2Nupn7D6kuQD",
        "outputId": "e48fee03-921d-4498-d312-b0068bff0f03"
      },
      "execution_count": 26,
      "outputs": [
        {
          "output_type": "stream",
          "name": "stdout",
          "text": [
            "test\n"
          ]
        }
      ]
    }
  ]
}